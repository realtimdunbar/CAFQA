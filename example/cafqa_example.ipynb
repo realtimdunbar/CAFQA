{
 "cells": [
  {
   "cell_type": "code",
   "execution_count": 1,
   "metadata": {},
   "outputs": [],
   "source": [
    "import sys\n",
    "sys.path.append(\"../\")\n",
    "import os\n",
    "import vqe_experiment as ve\n",
    "import numpy as np"
   ]
  },
  {
   "cell_type": "code",
   "execution_count": null,
   "metadata": {},
   "outputs": [],
   "source": []
  },
  {
   "cell_type": "code",
   "execution_count": null,
   "metadata": {},
   "outputs": [],
   "source": [
    "# define Hamiltonian: list of coefficients, list of Paulis, initial bitstring\n",
    "\n",
    "# here: molecular Hamiltonian, parity mapping, two-qubit reduction\n",
    "atom_string = \"H 0 0 0; H 0 0 2.0\"              # PySCF atom string\n",
    "num_orbitals = 1                                 # number of spatial orbitals\n",
    "coeffs, paulis, HF_bitstring = ve.molecule(atom_string, new_num_orbitals=num_orbitals)"
   ]
  },
  {
   "cell_type": "code",
   "execution_count": null,
   "metadata": {},
   "outputs": [],
   "source": [
    "coeffs, paulis, HF_bitstring"
   ]
  },
  {
   "cell_type": "code",
   "execution_count": null,
   "metadata": {},
   "outputs": [],
   "source": [
    "# number of qubits\n",
    "N = len(paulis[0])\n",
    "N"
   ]
  },
  {
   "cell_type": "code",
   "execution_count": null,
   "metadata": {},
   "outputs": [],
   "source": []
  },
  {
   "cell_type": "code",
   "execution_count": 5,
   "metadata": {},
   "outputs": [],
   "source": [
    "# configure underlying VQE structure, passed as keyword argument dictionary\n",
    "\n",
    "# a function which returns a parameterized Qiskit circuit (ansatz) and the number of parameters\n",
    "ansatz_func = ve.efficientsu2_full\n",
    "ansatz_reps = 1\n",
    "# if True, the initial HF_bitstring will be appended after ansatz (layer of X gates where there are 1s)\n",
    "# if False, HF_bitstring will be initialized before ansatz\n",
    "init_last = False\n",
    "\n",
    "vqe_kwargs = {\n",
    "    \"ansatz_func\": ansatz_func,\n",
    "    \"ansatz_reps\": ansatz_reps,\n",
    "    \"init_last\": init_last,\n",
    "    \"HF_bitstring\": HF_bitstring\n",
    "}"
   ]
  },
  {
   "cell_type": "code",
   "execution_count": null,
   "metadata": {},
   "outputs": [],
   "source": [
    "ansatz, num_params = ansatz_func(N, ansatz_reps)\n",
    "print(num_params)"
   ]
  },
  {
   "cell_type": "code",
   "execution_count": null,
   "metadata": {},
   "outputs": [],
   "source": [
    "ansatz.draw(fold=-1)"
   ]
  },
  {
   "cell_type": "code",
   "execution_count": null,
   "metadata": {},
   "outputs": [],
   "source": []
  },
  {
   "cell_type": "markdown",
   "metadata": {},
   "source": [
    "CAFQA parameters are represented by a list $[x_0, x_1, x_2, ...]$ where $x_i$ parametrizes the $i$-th gate in the ansatz and can only take the discrete values $\\{0,1,2,3\\}$. Typically the parameterized gates are rotation gates, $R_y$ or $R_z$, so that $x_i$ corresponds to a rotation angle $x_i \\cdot \\pi/2$."
   ]
  },
  {
   "cell_type": "code",
   "execution_count": null,
   "metadata": {},
   "outputs": [],
   "source": [
    "# configure algorithm\n",
    "\n",
    "budget = 100                                                 # number of iterations\n",
    "guess = list(map(int, np.random.randint(0, 4, num_params)))  # initial param guess\n",
    "guess"
   ]
  },
  {
   "cell_type": "code",
   "execution_count": 9,
   "metadata": {},
   "outputs": [],
   "source": [
    "# get VQE circuit guess parameters (* pi/2)\n",
    "qc = ve.vqe_circuit(\n",
    "    N, \n",
    "    np.array(guess)*np.pi/2, \n",
    "    paulis, \n",
    "    ansatz_func=ansatz_func, \n",
    "    ansatz_reps=ansatz_reps, \n",
    "    init_last=init_last,\n",
    "    HF_bitstring=HF_bitstring\n",
    "    )"
   ]
  },
  {
   "cell_type": "code",
   "execution_count": null,
   "metadata": {},
   "outputs": [],
   "source": [
    "qc.draw(fold=-1)"
   ]
  },
  {
   "cell_type": "code",
   "execution_count": 11,
   "metadata": {},
   "outputs": [],
   "source": [
    "# configure output\n",
    "\n",
    "save_dir = \"cafqa_example_out/\"\n",
    "os.system(f\"mkdir -p {save_dir}\")\n",
    "# the output files are relative to save_dir\n",
    "result_file = \"result.txt\"\n",
    "loss_file = \"cafqa_loss.txt\"\n",
    "params_file = \"cafqa_params.txt\""
   ]
  },
  {
   "cell_type": "code",
   "execution_count": null,
   "metadata": {},
   "outputs": [],
   "source": [
    "# run CAFQA\n",
    "\n",
    "# hypermapper changes the standard output to write to log files, so it needs to be\n",
    "# changed back after CAFQA (otherwise printing breaks)\n",
    "\n",
    "stdout = sys.stdout\n",
    "cafqa_energy, cafqa_params = ve.run_cafqa(\n",
    "    n_qubits=N,\n",
    "    coeffs=coeffs,\n",
    "    paulis=paulis,\n",
    "    param_guess=list(guess),\n",
    "    budget=budget,\n",
    "    save_dir=save_dir,\n",
    "    loss_file=loss_file,\n",
    "    params_file=params_file,\n",
    "    vqe_kwargs=vqe_kwargs\n",
    ")\n",
    "sys.stdout = stdout"
   ]
  },
  {
   "cell_type": "code",
   "execution_count": null,
   "metadata": {},
   "outputs": [],
   "source": []
  }
 ],
 "metadata": {
  "kernelspec": {
   "display_name": "mycondaenv",
   "language": "python",
   "name": "python3"
  },
  "language_info": {
   "codemirror_mode": {
    "name": "ipython",
    "version": 3
   },
   "file_extension": ".py",
   "mimetype": "text/x-python",
   "name": "python",
   "nbconvert_exporter": "python",
   "pygments_lexer": "ipython3",
   "version": "3.12.4"
  }
 },
 "nbformat": 4,
 "nbformat_minor": 2
}
