{
 "cells": [
  {
   "cell_type": "code",
   "execution_count": 1,
   "metadata": {},
   "outputs": [],
   "source": [
    "import sys\n",
    "sys.path.append(\"../\")\n",
    "import os\n",
    "import vqe_experiment as ve\n",
    "import numpy as np"
   ]
  },
  {
   "cell_type": "code",
   "execution_count": null,
   "metadata": {},
   "outputs": [],
   "source": []
  },
  {
   "cell_type": "code",
   "execution_count": 2,
   "metadata": {},
   "outputs": [
    {
     "name": "stderr",
     "output_type": "stream",
     "text": [
      "The original qubit operator only contains 2 qubits! Skipping the requested two-qubit reduction!\n",
      "The original qubit operator only contains 2 qubits! Skipping the requested two-qubit reduction!\n"
     ]
    }
   ],
   "source": [
    "# define Hamiltonian: list of coefficients, list of Paulis, initial bitstring\n",
    "\n",
    "# here: molecular Hamiltonian, parity mapping, two-qubit reduction\n",
    "atom_string = \"H 0 0 0; H 0 0 2.0\"              # PySCF atom string\n",
    "num_orbitals = 1                                 # number of spatial orbitals\n",
    "coeffs, paulis, HF_bitstring = ve.molecule(atom_string, new_num_orbitals=num_orbitals)"
   ]
  },
  {
   "cell_type": "code",
   "execution_count": 3,
   "metadata": {},
   "outputs": [
    {
     "data": {
      "text/plain": [
       "(array([-0.65155633,  0.26209531,  0.26209531,  0.1273657 ,  0.26458861]),\n",
       " array(['II', 'ZI', 'ZZ', 'IZ', 'II'], dtype='<U2'),\n",
       " '10')"
      ]
     },
     "execution_count": 3,
     "metadata": {},
     "output_type": "execute_result"
    }
   ],
   "source": [
    "coeffs, paulis, HF_bitstring"
   ]
  },
  {
   "cell_type": "code",
   "execution_count": 4,
   "metadata": {},
   "outputs": [
    {
     "data": {
      "text/plain": [
       "2"
      ]
     },
     "execution_count": 4,
     "metadata": {},
     "output_type": "execute_result"
    }
   ],
   "source": [
    "# number of qubits\n",
    "N = len(paulis[0])\n",
    "N"
   ]
  },
  {
   "cell_type": "code",
   "execution_count": null,
   "metadata": {},
   "outputs": [],
   "source": []
  },
  {
   "cell_type": "code",
   "execution_count": 5,
   "metadata": {},
   "outputs": [],
   "source": [
    "# configure underlying VQE structure, passed as keyword argument dictionary\n",
    "\n",
    "# a function which returns a parameterized Qiskit circuit (ansatz) and the number of parameters\n",
    "ansatz_func = ve.efficientsu2_full\n",
    "ansatz_reps = 1\n",
    "# if True, the initial HF_bitstring will be appended after ansatz (layer of X gates where there are 1s)\n",
    "# if False, HF_bitstring will be initialized before ansatz\n",
    "init_last = False\n",
    "\n",
    "vqe_kwargs = {\n",
    "    \"ansatz_func\": ansatz_func,\n",
    "    \"ansatz_reps\": ansatz_reps,\n",
    "    \"init_last\": init_last,\n",
    "    \"HF_bitstring\": HF_bitstring\n",
    "}"
   ]
  },
  {
   "cell_type": "code",
   "execution_count": 6,
   "metadata": {},
   "outputs": [
    {
     "name": "stdout",
     "output_type": "stream",
     "text": [
      "8\n"
     ]
    }
   ],
   "source": [
    "ansatz, num_params = ansatz_func(N, ansatz_reps)\n",
    "print(num_params)"
   ]
  },
  {
   "cell_type": "code",
   "execution_count": 7,
   "metadata": {},
   "outputs": [
    {
     "data": {
      "text/html": [
       "<pre style=\"word-wrap: normal;white-space: pre;background: #fff0;line-height: 1.1;font-family: &quot;Courier New&quot;,Courier,monospace\">     ┌──────────┐┌──────────┐ ░       ░ ┌──────────┐┌──────────┐\n",
       "q_0: ┤ Ry(θ[0]) ├┤ Rz(θ[2]) ├─░───■───░─┤ Ry(θ[4]) ├┤ Rz(θ[6]) ├\n",
       "     ├──────────┤├──────────┤ ░ ┌─┴─┐ ░ ├──────────┤├──────────┤\n",
       "q_1: ┤ Ry(θ[1]) ├┤ Rz(θ[3]) ├─░─┤ X ├─░─┤ Ry(θ[5]) ├┤ Rz(θ[7]) ├\n",
       "     └──────────┘└──────────┘ ░ └───┘ ░ └──────────┘└──────────┘</pre>"
      ],
      "text/plain": [
       "     ┌──────────┐┌──────────┐ ░       ░ ┌──────────┐┌──────────┐\n",
       "q_0: ┤ Ry(θ[0]) ├┤ Rz(θ[2]) ├─░───■───░─┤ Ry(θ[4]) ├┤ Rz(θ[6]) ├\n",
       "     ├──────────┤├──────────┤ ░ ┌─┴─┐ ░ ├──────────┤├──────────┤\n",
       "q_1: ┤ Ry(θ[1]) ├┤ Rz(θ[3]) ├─░─┤ X ├─░─┤ Ry(θ[5]) ├┤ Rz(θ[7]) ├\n",
       "     └──────────┘└──────────┘ ░ └───┘ ░ └──────────┘└──────────┘"
      ]
     },
     "execution_count": 7,
     "metadata": {},
     "output_type": "execute_result"
    }
   ],
   "source": [
    "ansatz.draw(fold=-1)"
   ]
  },
  {
   "cell_type": "code",
   "execution_count": null,
   "metadata": {},
   "outputs": [],
   "source": []
  },
  {
   "cell_type": "markdown",
   "metadata": {},
   "source": [
    "CAFQA parameters are represented by a list $[x_0, x_1, x_2, ...]$ where $x_i$ parametrizes the $i$-th gate in the ansatz and can only take the discrete values $\\{0,1,2,3\\}$. Typically the parameterized gates are rotation gates, $R_y$ or $R_z$, so that $x_i$ corresponds to a rotation angle $x_i \\cdot \\pi/2$."
   ]
  },
  {
   "cell_type": "code",
   "execution_count": 8,
   "metadata": {},
   "outputs": [
    {
     "data": {
      "text/plain": [
       "[0, 2, 2, 2, 1, 1, 2, 3]"
      ]
     },
     "execution_count": 8,
     "metadata": {},
     "output_type": "execute_result"
    }
   ],
   "source": [
    "# configure algorithm\n",
    "\n",
    "budget = 100                                                 # number of iterations\n",
    "guess = list(map(int, np.random.randint(0, 4, num_params)))  # initial param guess\n",
    "guess"
   ]
  },
  {
   "cell_type": "code",
   "execution_count": 9,
   "metadata": {},
   "outputs": [],
   "source": [
    "# get VQE circuit guess parameters (* pi/2)\n",
    "qc = ve.vqe_circuit(\n",
    "    N, \n",
    "    np.array(guess)*np.pi/2, \n",
    "    paulis, \n",
    "    ansatz_func=ansatz_func, \n",
    "    ansatz_reps=ansatz_reps, \n",
    "    init_last=init_last,\n",
    "    HF_bitstring=HF_bitstring\n",
    "    )"
   ]
  },
  {
   "cell_type": "code",
   "execution_count": 10,
   "metadata": {},
   "outputs": [
    {
     "data": {
      "text/html": [
       "<pre style=\"word-wrap: normal;white-space: pre;background: #fff0;line-height: 1.1;font-family: &quot;Courier New&quot;,Courier,monospace\">        ┌───┐  ┌───────┐┌───────┐ ░       ░ ┌─────────┐ ┌───────┐  \n",
       "q1_0: ──┤ X ├──┤ Ry(0) ├┤ Rz(π) ├─░───■───░─┤ Ry(π/2) ├─┤ Rz(π) ├──\n",
       "      ┌─┴───┴─┐├───────┤└───────┘ ░ ┌─┴─┐ ░ ├─────────┤┌┴───────┴─┐\n",
       "q1_1: ┤ Ry(π) ├┤ Rz(π) ├──────────░─┤ X ├─░─┤ Ry(π/2) ├┤ Rz(3π/2) ├\n",
       "      └───────┘└───────┘          ░ └───┘ ░ └─────────┘└──────────┘\n",
       "c0: 2/═════════════════════════════════════════════════════════════\n",
       "                                                                   </pre>"
      ],
      "text/plain": [
       "        ┌───┐  ┌───────┐┌───────┐ ░       ░ ┌─────────┐ ┌───────┐  \n",
       "q1_0: ──┤ X ├──┤ Ry(0) ├┤ Rz(π) ├─░───■───░─┤ Ry(π/2) ├─┤ Rz(π) ├──\n",
       "      ┌─┴───┴─┐├───────┤└───────┘ ░ ┌─┴─┐ ░ ├─────────┤┌┴───────┴─┐\n",
       "q1_1: ┤ Ry(π) ├┤ Rz(π) ├──────────░─┤ X ├─░─┤ Ry(π/2) ├┤ Rz(3π/2) ├\n",
       "      └───────┘└───────┘          ░ └───┘ ░ └─────────┘└──────────┘\n",
       "c0: 2/═════════════════════════════════════════════════════════════\n",
       "                                                                   "
      ]
     },
     "execution_count": 10,
     "metadata": {},
     "output_type": "execute_result"
    }
   ],
   "source": [
    "qc.draw(fold=-1)"
   ]
  },
  {
   "cell_type": "code",
   "execution_count": 11,
   "metadata": {},
   "outputs": [],
   "source": [
    "# configure output\n",
    "\n",
    "save_dir = \"cafqa_example_out/\"\n",
    "os.system(f\"mkdir -p {save_dir}\")\n",
    "# the output files are relative to save_dir\n",
    "result_file = \"result.txt\"\n",
    "loss_file = \"cafqa_loss.txt\"\n",
    "params_file = \"cafqa_params.txt\""
   ]
  },
  {
   "cell_type": "code",
   "execution_count": 12,
   "metadata": {},
   "outputs": [
    {
     "name": "stdout",
     "output_type": "stream",
     "text": [
      "Design of experiment phase, number of new doe samples = 100 .......\n",
      "Loss computed by CAFQA VQE is -1.1102230246251565e-16, in 0.009399292001035064 s.\n",
      "Loss computed by CAFQA VQE is -3.885780586188048e-16, in 0.0022462080232799053 s.\n",
      "Loss computed by CAFQA VQE is 0.7071067811865469, in 0.0026973749918397516 s.\n",
      "Loss computed by CAFQA VQE is 0.0, in 0.002174207998905331 s.\n",
      "Loss computed by CAFQA VQE is -2.220446049250313e-16, in 0.003042709024157375 s.\n",
      "Loss computed by CAFQA VQE is -0.9999999999999999, in 0.0019322919833939523 s.\n",
      "Loss computed by CAFQA VQE is 1.6653345369377348e-16, in 0.0019282499852124602 s.\n",
      "Loss computed by CAFQA VQE is -0.7071067811865472, in 0.0024124579795170575 s.\n",
      "Loss computed by CAFQA VQE is 1.5265566588595902e-16, in 0.002217500004917383 s.\n",
      "Loss computed by CAFQA VQE is 0.9999999999999996, in 0.001973665988771245 s.\n",
      "Loss computed by CAFQA VQE is 5.689893001203927e-16, in 0.0018699999782256782 s.\n",
      "Loss computed by CAFQA VQE is -0.7071067811865469, in 0.00203108400455676 s.\n",
      "Loss computed by CAFQA VQE is -1.0, in 0.0019972090085502714 s.\n",
      "Loss computed by CAFQA VQE is -2.7755575615628914e-16, in 0.002632457995787263 s.\n",
      "Loss computed by CAFQA VQE is 1.6653345369377348e-16, in 0.0020230419759172946 s.\n",
      "Loss computed by CAFQA VQE is 0.7071067811865472, in 0.0028639580123126507 s.\n",
      "Loss computed by CAFQA VQE is -1.1102230246251565e-16, in 0.00182566701550968 s.\n",
      "Loss computed by CAFQA VQE is -2.7755575615628914e-16, in 0.0019114169990643859 s.\n",
      "Loss computed by CAFQA VQE is -5.551115123125783e-17, in 0.0027981250023003668 s.\n",
      "Loss computed by CAFQA VQE is 0.7071067811865476, in 0.002296833001310006 s.\n",
      "Loss computed by CAFQA VQE is -4.440892098500626e-16, in 0.0019003339984919876 s.\n",
      "Loss computed by CAFQA VQE is 0.0, in 0.001875249989097938 s.\n",
      "Loss computed by CAFQA VQE is -0.707106781186547, in 0.0020583749865181744 s.\n",
      "Loss computed by CAFQA VQE is 0.9999999999999996, in 0.001941499998793006 s.\n",
      "Loss computed by CAFQA VQE is -0.7071067811865472, in 0.002590749994851649 s.\n",
      "Loss computed by CAFQA VQE is -0.7071067811865471, in 0.002038250007899478 s.\n",
      "Loss computed by CAFQA VQE is -2.7755575615628914e-16, in 0.0021282919915392995 s.\n",
      "Loss computed by CAFQA VQE is 0.0, in 0.001865833008196205 s.\n",
      "Loss computed by CAFQA VQE is -7.26730357261158e-33, in 0.0017534999933559448 s.\n",
      "Loss computed by CAFQA VQE is -1.1102230246251565e-16, in 0.00188974998309277 s.\n",
      "Loss computed by CAFQA VQE is -0.9999999999999993, in 0.0021425000159069896 s.\n",
      "Loss computed by CAFQA VQE is 0.0, in 0.0019789579964708537 s.\n",
      "Loss computed by CAFQA VQE is 1.1102230246251565e-16, in 0.0018453749944455922 s.\n",
      "Loss computed by CAFQA VQE is 2.7755575615628914e-16, in 0.0017781670030672103 s.\n",
      "Loss computed by CAFQA VQE is 9.71445146547012e-17, in 0.0019147080020047724 s.\n",
      "Loss computed by CAFQA VQE is 6.661338147750939e-16, in 0.0024444590089842677 s.\n",
      "Loss computed by CAFQA VQE is -0.9999999999999994, in 0.0024783329863566905 s.\n",
      "Loss computed by CAFQA VQE is 3.885780586188048e-16, in 0.0019530410063453019 s.\n",
      "Loss computed by CAFQA VQE is -5.551115123125783e-17, in 0.002699917007703334 s.\n",
      "Loss computed by CAFQA VQE is -0.9999999999999996, in 0.0018772919720504433 s.\n",
      "Loss computed by CAFQA VQE is 0.7071067811865472, in 0.0018951669917441905 s.\n",
      "Loss computed by CAFQA VQE is 0.9999999999999997, in 0.003307334001874551 s.\n",
      "Loss computed by CAFQA VQE is 3.191891195797325e-16, in 0.0021107910142745823 s.\n",
      "Loss computed by CAFQA VQE is 4.0245584642661925e-16, in 0.0018593749846331775 s.\n",
      "Loss computed by CAFQA VQE is 5.551115123125783e-17, in 0.001899208000395447 s.\n",
      "Loss computed by CAFQA VQE is -0.9999999999999998, in 0.0018601249903440475 s.\n",
      "Loss computed by CAFQA VQE is -1.1102230246251565e-16, in 0.0021297920029610395 s.\n",
      "Loss computed by CAFQA VQE is -0.7071067811865469, in 0.002519959001801908 s.\n",
      "Loss computed by CAFQA VQE is 1.6653345369377348e-16, in 0.0019013330165762454 s.\n",
      "Loss computed by CAFQA VQE is -4.440892098500626e-16, in 0.0027528339996933937 s.\n",
      "Loss computed by CAFQA VQE is -0.7071067811865478, in 0.001923417003126815 s.\n",
      "Loss computed by CAFQA VQE is 0.9999999999999993, in 0.0018694160098675638 s.\n",
      "Loss computed by CAFQA VQE is -4.996003610813204e-16, in 0.0018501669983379543 s.\n",
      "Loss computed by CAFQA VQE is -5.551115123125783e-17, in 0.0023707090003881603 s.\n",
      "Loss computed by CAFQA VQE is 3.3306690738754696e-16, in 0.001917208981467411 s.\n",
      "Loss computed by CAFQA VQE is -0.7071067811865472, in 0.0018249170097988099 s.\n",
      "Loss computed by CAFQA VQE is 1.6653345369377348e-16, in 0.0018475420074537396 s.\n",
      "Loss computed by CAFQA VQE is 0.7071067811865472, in 0.00184379200800322 s.\n",
      "Loss computed by CAFQA VQE is -0.707106781186547, in 0.002023750013904646 s.\n",
      "Loss computed by CAFQA VQE is 4.579669976578771e-16, in 0.002312791009899229 s.\n",
      "Loss computed by CAFQA VQE is 1.1102230246251565e-16, in 0.0018994580022990704 s.\n",
      "Loss computed by CAFQA VQE is 3.3306690738754696e-16, in 0.002678624994587153 s.\n",
      "Loss computed by CAFQA VQE is -4.996003610813204e-16, in 0.0018566669896245003 s.\n",
      "Loss computed by CAFQA VQE is 6.938893903907228e-17, in 0.001802166982088238 s.\n",
      "Loss computed by CAFQA VQE is 0.0, in 0.0018410829943604767 s.\n",
      "Loss computed by CAFQA VQE is -0.9999999999999994, in 0.002435041998978704 s.\n",
      "Loss computed by CAFQA VQE is 0.7071067811865472, in 0.00190937498700805 s.\n",
      "Loss computed by CAFQA VQE is -0.9999999999999999, in 0.0018570839893072844 s.\n",
      "Loss computed by CAFQA VQE is -6.938893903907228e-17, in 0.00186416701762937 s.\n",
      "Loss computed by CAFQA VQE is 3.3306690738754696e-16, in 0.0018671669822651893 s.\n",
      "Loss computed by CAFQA VQE is 5.551115123125783e-17, in 0.002376625023316592 s.\n",
      "Loss computed by CAFQA VQE is 2.636779683484747e-16, in 0.0019482920179143548 s.\n",
      "Loss computed by CAFQA VQE is -0.707106781186547, in 0.0018791659967973828 s.\n",
      "Loss computed by CAFQA VQE is -0.707106781186547, in 0.0025579590001143515 s.\n",
      "Loss computed by CAFQA VQE is -5.551115123125783e-17, in 0.0018555000133346766 s.\n",
      "Loss computed by CAFQA VQE is -1.1102230246251565e-16, in 0.0018620830087456852 s.\n",
      "Loss computed by CAFQA VQE is 1.249000902703301e-16, in 0.0019684580038301647 s.\n",
      "Loss computed by CAFQA VQE is -1.6653345369377348e-16, in 0.0019309999770484865 s.\n",
      "Loss computed by CAFQA VQE is 0.7071067811865472, in 0.0022382909955922514 s.\n",
      "Loss computed by CAFQA VQE is -2.0816681711721685e-16, in 0.0019210420141462237 s.\n",
      "Loss computed by CAFQA VQE is -0.9999999999999996, in 0.001982040994334966 s.\n",
      "Loss computed by CAFQA VQE is 0.7071067811865474, in 0.0019450419931672513 s.\n",
      "Loss computed by CAFQA VQE is 0.707106781186547, in 0.002205165976192802 s.\n",
      "Loss computed by CAFQA VQE is 0.7071067811865469, in 0.001924582989886403 s.\n",
      "Loss computed by CAFQA VQE is 2.0816681711721685e-16, in 0.001796374999685213 s.\n",
      "Loss computed by CAFQA VQE is 0.7071067811865468, in 0.0023025829868856817 s.\n",
      "Loss computed by CAFQA VQE is -3.3306690738754696e-16, in 0.0019770420040003955 s.\n",
      "Loss computed by CAFQA VQE is -3.3306690738754696e-16, in 0.0017897090001497418 s.\n",
      "Loss computed by CAFQA VQE is -2.220446049250313e-16, in 0.002134457987267524 s.\n",
      "Loss computed by CAFQA VQE is -0.7071067811865472, in 0.0020633329986594617 s.\n",
      "Loss computed by CAFQA VQE is -5.551115123125783e-17, in 0.0019653750059660524 s.\n",
      "Loss computed by CAFQA VQE is -0.7071067811865469, in 0.0019229589961469173 s.\n",
      "Loss computed by CAFQA VQE is -0.7071067811865477, in 0.0019913330033887178 s.\n",
      "Loss computed by CAFQA VQE is 0.0, in 0.002117583993822336 s.\n",
      "Loss computed by CAFQA VQE is -0.7071067811865477, in 0.002099417004501447 s.\n",
      "Loss computed by CAFQA VQE is 0.9999999999999996, in 0.0020079580135643482 s.\n",
      "Loss computed by CAFQA VQE is 3.469446951953614e-16, in 0.0023044589906930923 s.\n",
      "Loss computed by CAFQA VQE is -0.7071067811865475, in 0.0018950839876197278 s.\n",
      "Loss computed by CAFQA VQE is -0.707106781186547, in 0.0018807089945767075 s.\n",
      "Loss computed by CAFQA VQE is -1.6653345369377348e-16, in 0.001869540981715545 s.\n",
      "x0,x1,x2,x3,x4,x5,x6,x7,value,Timestamp\n",
      "0,2,2,2,1,1,2,3,-1.1102230246251565e-16,15\n",
      "3,2,2,0,1,0,0,2,-3.885780586188048e-16,18\n",
      "1,1,3,0,1,3,3,1,0.7071067811865469,22\n",
      "1,3,1,2,0,1,1,2,0.0,25\n",
      "2,1,2,1,0,2,2,1,-2.220446049250313e-16,29\n",
      "0,0,2,3,2,0,3,2,-0.9999999999999999,31\n",
      "2,1,0,2,1,2,2,3,1.6653345369377348e-16,34\n",
      "2,1,1,2,2,3,3,1,-0.7071067811865472,38\n",
      "0,2,1,0,0,3,2,0,1.5265566588595902e-16,41\n",
      "1,2,3,1,2,0,1,0,0.9999999999999996,43\n",
      "2,3,3,3,2,3,0,2,5.689893001203927e-16,46\n",
      "2,3,2,0,2,3,1,3,-0.7071067811865469,49\n",
      "0,0,2,1,2,0,2,2,-1.0,52\n",
      "0,3,0,2,1,2,3,0,-2.7755575615628914e-16,55\n",
      "0,3,1,1,1,2,1,2,1.6653345369377348e-16,58\n",
      "2,3,0,1,3,2,2,1,0.7071067811865472,62\n",
      "0,0,1,2,3,2,3,0,-1.1102230246251565e-16,64\n",
      "3,2,1,0,2,3,3,0,-2.7755575615628914e-16,67\n",
      "3,0,1,0,1,0,1,2,-5.551115123125783e-17,71\n",
      "1,2,1,0,3,3,2,3,0.7071067811865476,74\n",
      "2,0,0,2,0,3,0,3,-4.440892098500626e-16,77\n",
      "0,2,0,2,3,0,0,1,0.0,79\n",
      "3,1,3,0,3,3,2,2,-0.707106781186547,82\n",
      "1,0,2,2,2,2,3,3,0.9999999999999996,85\n",
      "0,2,1,2,1,3,3,2,-0.7071067811865472,88\n",
      "3,3,0,0,1,1,3,0,-0.7071067811865471,91\n",
      "2,3,0,1,0,0,0,1,-2.7755575615628914e-16,94\n",
      "2,0,0,3,1,1,1,0,0.0,97\n",
      "1,1,0,0,2,3,2,3,-7.26730357261158e-33,99\n",
      "1,3,3,3,0,3,2,2,-1.1102230246251565e-16,102\n",
      "2,2,3,1,0,0,0,3,-0.9999999999999993,106\n",
      "1,2,2,1,1,0,2,1,0.0,108\n",
      "2,2,0,3,1,1,1,2,1.1102230246251565e-16,111\n",
      "3,0,1,2,2,3,2,3,2.7755575615628914e-16,113\n",
      "0,1,3,0,1,2,1,2,9.71445146547012e-17,116\n",
      "3,2,2,0,1,2,3,0,6.661338147750939e-16,119\n",
      "2,0,2,0,0,2,2,1,-0.9999999999999994,123\n",
      "2,2,0,3,1,2,1,0,3.885780586188048e-16,125\n",
      "0,1,3,3,2,2,3,1,-5.551115123125783e-17,129\n",
      "3,2,3,0,0,0,3,3,-0.9999999999999996,132\n",
      "1,1,3,3,3,1,1,3,0.7071067811865472,134\n",
      "0,0,2,2,2,2,3,2,0.9999999999999997,138\n",
      "0,2,2,2,0,3,1,3,3.191891195797325e-16,141\n",
      "2,0,2,0,2,3,0,2,4.0245584642661925e-16,144\n",
      "0,2,2,3,3,1,3,2,5.551115123125783e-17,146\n",
      "3,0,0,0,2,0,3,2,-0.9999999999999998,149\n",
      "0,2,2,1,1,1,1,3,-1.1102230246251565e-16,152\n",
      "2,3,0,3,3,2,2,1,-0.7071067811865469,155\n",
      "3,1,1,2,2,2,3,2,1.6653345369377348e-16,158\n",
      "3,2,1,2,2,3,0,0,-4.440892098500626e-16,161\n",
      "0,3,3,0,2,1,2,2,-0.7071067811865478,164\n",
      "2,2,2,2,2,0,2,0,0.9999999999999993,167\n",
      "2,3,1,3,0,0,0,1,-4.996003610813204e-16,169\n",
      "2,1,1,3,0,1,2,2,-5.551115123125783e-17,173\n",
      "2,3,0,2,3,2,2,1,3.3306690738754696e-16,175\n",
      "3,3,3,1,1,0,1,1,-0.7071067811865472,178\n",
      "0,2,0,0,3,2,2,1,1.6653345369377348e-16,180\n",
      "2,0,3,3,1,3,1,1,0.7071067811865472,183\n",
      "3,1,2,3,3,2,2,2,-0.707106781186547,186\n",
      "1,1,0,2,1,2,1,0,4.579669976578771e-16,189\n",
      "1,2,2,3,2,1,0,3,1.1102230246251565e-16,192\n",
      "1,2,0,2,0,3,2,0,3.3306690738754696e-16,195\n",
      "2,1,1,3,0,2,1,2,-4.996003610813204e-16,198\n",
      "1,3,1,0,1,2,1,3,6.938893903907228e-17,200\n",
      "0,2,1,2,2,1,2,3,0.0,203\n",
      "2,2,0,1,2,2,0,3,-0.9999999999999994,207\n",
      "3,3,3,1,3,0,2,3,0.7071067811865472,209\n",
      "0,0,2,1,2,0,1,2,-0.9999999999999999,212\n",
      "0,2,2,1,0,1,3,3,-6.938893903907228e-17,214\n",
      "1,0,0,3,2,3,1,3,3.3306690738754696e-16,217\n",
      "2,2,0,0,3,3,1,2,5.551115123125783e-17,220\n",
      "0,1,1,0,3,0,1,2,2.636779683484747e-16,223\n",
      "3,3,3,2,3,3,1,2,-0.707106781186547,226\n",
      "2,0,1,3,1,3,3,3,-0.707106781186547,229\n",
      "1,3,1,3,2,2,1,3,-5.551115123125783e-17,231\n",
      "3,1,3,3,0,2,1,0,-1.1102230246251565e-16,234\n",
      "2,0,2,1,2,1,2,0,1.249000902703301e-16,237\n",
      "3,3,0,2,2,1,1,3,-1.6653345369377348e-16,240\n",
      "0,0,1,3,3,3,3,0,0.7071067811865472,243\n",
      "1,1,2,2,3,0,0,2,-2.0816681711721685e-16,245\n",
      "1,0,1,3,2,0,2,3,-0.9999999999999996,248\n",
      "2,3,1,0,0,3,3,3,0.7071067811865474,251\n",
      "0,1,0,3,1,0,0,1,0.707106781186547,254\n",
      "2,3,0,2,0,1,3,3,0.7071067811865469,256\n",
      "2,3,3,0,3,2,1,2,2.0816681711721685e-16,259\n",
      "3,0,3,1,3,1,1,0,0.7071067811865468,262\n",
      "3,3,0,0,1,0,3,0,-3.3306690738754696e-16,265\n",
      "2,2,1,2,3,2,0,2,-3.3306690738754696e-16,267\n",
      "1,0,0,0,0,3,3,3,-2.220446049250313e-16,270\n",
      "3,3,3,1,1,1,3,1,-0.7071067811865472,273\n",
      "0,2,1,3,1,0,3,3,-5.551115123125783e-17,276\n",
      "2,3,0,3,3,2,2,2,-0.7071067811865469,278\n",
      "2,3,3,0,1,1,0,3,-0.7071067811865477,281\n",
      "3,1,1,1,0,2,1,3,0.0,284\n",
      "0,3,3,2,2,3,2,3,-0.7071067811865477,287\n",
      "3,0,0,0,2,2,1,1,0.9999999999999996,290\n",
      "2,3,3,1,2,1,1,3,3.469446951953614e-16,293\n",
      "1,3,0,3,3,1,0,3,-0.7071067811865475,295\n",
      "3,3,1,0,3,1,1,0,-0.707106781186547,298\n",
      "0,3,3,0,2,0,2,2,-1.6653345369377348e-16,300\n",
      "\n",
      "\n",
      "End of doe/resume phase, the number of evaluated configurations is: 100\n",
      "\n",
      "Starting optimization iteration 1\n",
      "Loss computed by CAFQA VQE is 5.967448757360216e-16, in 0.0036773750034626573 s.\n",
      "x0,x1,x2,x3,x4,x5,x6,x7,value,Timestamp\n",
      "2,2,1,0,2,1,3,0,5.967448757360216e-16,384\n",
      "\n",
      "Starting optimization iteration 2\n"
     ]
    },
    {
     "ename": "AttributeError",
     "evalue": "Can't pickle local object 'Space.__init__.<locals>.<lambda>'",
     "output_type": "error",
     "traceback": [
      "\u001b[0;31m---------------------------------------------------------------------------\u001b[0m",
      "\u001b[0;31mAttributeError\u001b[0m                            Traceback (most recent call last)",
      "Cell \u001b[0;32mIn[12], line 7\u001b[0m\n\u001b[1;32m      1\u001b[0m \u001b[38;5;66;03m# run CAFQA\u001b[39;00m\n\u001b[1;32m      2\u001b[0m \n\u001b[1;32m      3\u001b[0m \u001b[38;5;66;03m# hypermapper changes the standard output to write to log files, so it needs to be\u001b[39;00m\n\u001b[1;32m      4\u001b[0m \u001b[38;5;66;03m# changed back after CAFQA (otherwise printing breaks)\u001b[39;00m\n\u001b[1;32m      6\u001b[0m stdout \u001b[38;5;241m=\u001b[39m sys\u001b[38;5;241m.\u001b[39mstdout\n\u001b[0;32m----> 7\u001b[0m cafqa_energy, cafqa_params \u001b[38;5;241m=\u001b[39m \u001b[43mve\u001b[49m\u001b[38;5;241;43m.\u001b[39;49m\u001b[43mrun_cafqa\u001b[49m\u001b[43m(\u001b[49m\n\u001b[1;32m      8\u001b[0m \u001b[43m    \u001b[49m\u001b[43mn_qubits\u001b[49m\u001b[38;5;241;43m=\u001b[39;49m\u001b[43mN\u001b[49m\u001b[43m,\u001b[49m\n\u001b[1;32m      9\u001b[0m \u001b[43m    \u001b[49m\u001b[43mcoeffs\u001b[49m\u001b[38;5;241;43m=\u001b[39;49m\u001b[43mcoeffs\u001b[49m\u001b[43m,\u001b[49m\n\u001b[1;32m     10\u001b[0m \u001b[43m    \u001b[49m\u001b[43mpaulis\u001b[49m\u001b[38;5;241;43m=\u001b[39;49m\u001b[43mpaulis\u001b[49m\u001b[43m,\u001b[49m\n\u001b[1;32m     11\u001b[0m \u001b[43m    \u001b[49m\u001b[43mparam_guess\u001b[49m\u001b[38;5;241;43m=\u001b[39;49m\u001b[38;5;28;43mlist\u001b[39;49m\u001b[43m(\u001b[49m\u001b[43mguess\u001b[49m\u001b[43m)\u001b[49m\u001b[43m,\u001b[49m\n\u001b[1;32m     12\u001b[0m \u001b[43m    \u001b[49m\u001b[43mbudget\u001b[49m\u001b[38;5;241;43m=\u001b[39;49m\u001b[43mbudget\u001b[49m\u001b[43m,\u001b[49m\n\u001b[1;32m     13\u001b[0m \u001b[43m    \u001b[49m\u001b[43msave_dir\u001b[49m\u001b[38;5;241;43m=\u001b[39;49m\u001b[43msave_dir\u001b[49m\u001b[43m,\u001b[49m\n\u001b[1;32m     14\u001b[0m \u001b[43m    \u001b[49m\u001b[43mloss_file\u001b[49m\u001b[38;5;241;43m=\u001b[39;49m\u001b[43mloss_file\u001b[49m\u001b[43m,\u001b[49m\n\u001b[1;32m     15\u001b[0m \u001b[43m    \u001b[49m\u001b[43mparams_file\u001b[49m\u001b[38;5;241;43m=\u001b[39;49m\u001b[43mparams_file\u001b[49m\u001b[43m,\u001b[49m\n\u001b[1;32m     16\u001b[0m \u001b[43m    \u001b[49m\u001b[43mvqe_kwargs\u001b[49m\u001b[38;5;241;43m=\u001b[39;49m\u001b[43mvqe_kwargs\u001b[49m\n\u001b[1;32m     17\u001b[0m \u001b[43m)\u001b[49m\n\u001b[1;32m     18\u001b[0m sys\u001b[38;5;241m.\u001b[39mstdout \u001b[38;5;241m=\u001b[39m stdout\n",
      "File \u001b[0;32m~/my-code/Quantum-Chemistry/CAFQA/example/../vqe_experiment.py:226\u001b[0m, in \u001b[0;36mrun_cafqa\u001b[0;34m(n_qubits, coeffs, paulis, param_guess, budget, save_dir, loss_file, params_file, vqe_kwargs)\u001b[0m\n\u001b[1;32m    223\u001b[0m     json\u001b[38;5;241m.\u001b[39mdump(config, config_file, indent\u001b[38;5;241m=\u001b[39m\u001b[38;5;241m4\u001b[39m)\n\u001b[1;32m    225\u001b[0m stdout \u001b[38;5;241m=\u001b[39m sys\u001b[38;5;241m.\u001b[39mstdout\n\u001b[0;32m--> 226\u001b[0m \u001b[43mhypermapper\u001b[49m\u001b[38;5;241;43m.\u001b[39;49m\u001b[43moptimizer\u001b[49m\u001b[38;5;241;43m.\u001b[39;49m\u001b[43moptimize\u001b[49m\u001b[43m(\u001b[49m\n\u001b[1;32m    227\u001b[0m \u001b[43m    \u001b[49m\u001b[43mhypermapper_config_path\u001b[49m\u001b[43m,\u001b[49m\u001b[43m \u001b[49m\n\u001b[1;32m    228\u001b[0m \u001b[43m    \u001b[49m\u001b[38;5;28;43;01mlambda\u001b[39;49;00m\u001b[43m \u001b[49m\u001b[43mx\u001b[49m\u001b[43m:\u001b[49m\u001b[43m \u001b[49m\u001b[43mvqe_cafqa_t\u001b[49m\u001b[43m(\u001b[49m\n\u001b[1;32m    229\u001b[0m \u001b[43m        \u001b[49m\u001b[43minputs\u001b[49m\u001b[38;5;241;43m=\u001b[39;49m\u001b[43mx\u001b[49m\u001b[43m,\u001b[49m\n\u001b[1;32m    230\u001b[0m \u001b[43m        \u001b[49m\u001b[43mn_qubits\u001b[49m\u001b[38;5;241;43m=\u001b[39;49m\u001b[43mn_qubits\u001b[49m\u001b[43m,\u001b[49m\n\u001b[1;32m    231\u001b[0m \u001b[43m        \u001b[49m\u001b[43mloss_filename\u001b[49m\u001b[38;5;241;43m=\u001b[39;49m\u001b[43msave_dir\u001b[49m\u001b[43m \u001b[49m\u001b[38;5;241;43m+\u001b[39;49m\u001b[43m \u001b[49m\u001b[38;5;124;43m\"\u001b[39;49m\u001b[38;5;124;43m/\u001b[39;49m\u001b[38;5;124;43m\"\u001b[39;49m\u001b[43m \u001b[49m\u001b[38;5;241;43m+\u001b[39;49m\u001b[43m \u001b[49m\u001b[43mloss_file\u001b[49m\u001b[43m,\u001b[49m\n\u001b[1;32m    232\u001b[0m \u001b[43m        \u001b[49m\u001b[43mparams_filename\u001b[49m\u001b[38;5;241;43m=\u001b[39;49m\u001b[43msave_dir\u001b[49m\u001b[43m \u001b[49m\u001b[38;5;241;43m+\u001b[39;49m\u001b[43m \u001b[49m\u001b[38;5;124;43m\"\u001b[39;49m\u001b[38;5;124;43m/\u001b[39;49m\u001b[38;5;124;43m\"\u001b[39;49m\u001b[43m \u001b[49m\u001b[38;5;241;43m+\u001b[39;49m\u001b[43m \u001b[49m\u001b[43mparams_file\u001b[49m\u001b[43m,\u001b[49m\n\u001b[1;32m    233\u001b[0m \u001b[43m        \u001b[49m\u001b[43mpaulis\u001b[49m\u001b[38;5;241;43m=\u001b[39;49m\u001b[43mpaulis\u001b[49m\u001b[43m,\u001b[49m\u001b[43m \u001b[49m\n\u001b[1;32m    234\u001b[0m \u001b[43m        \u001b[49m\u001b[43mcoeffs\u001b[49m\u001b[38;5;241;43m=\u001b[39;49m\u001b[43mcoeffs\u001b[49m\u001b[43m,\u001b[49m\n\u001b[1;32m    235\u001b[0m \u001b[43m        \u001b[49m\u001b[38;5;241;43m*\u001b[39;49m\u001b[38;5;241;43m*\u001b[39;49m\u001b[43mvqe_kwargs\u001b[49m\n\u001b[1;32m    236\u001b[0m \u001b[43m    \u001b[49m\u001b[43m)\u001b[49m\u001b[43m)\u001b[49m\n\u001b[1;32m    237\u001b[0m sys\u001b[38;5;241m.\u001b[39mstdout \u001b[38;5;241m=\u001b[39m stdout\n\u001b[1;32m    239\u001b[0m energy_cafqa \u001b[38;5;241m=\u001b[39m np\u001b[38;5;241m.\u001b[39minf\n",
      "File \u001b[0;32m/opt/miniconda3/envs/mycondaenv/lib/python3.12/site-packages/hypermapper/optimizer.py:124\u001b[0m, in \u001b[0;36moptimize\u001b[0;34m(parameters_file, black_box_function)\u001b[0m\n\u001b[1;32m    117\u001b[0m     profiling \u001b[38;5;241m=\u001b[39m \u001b[38;5;28;01mNone\u001b[39;00m\n\u001b[1;32m    119\u001b[0m \u001b[38;5;28;01mif\u001b[39;00m (\n\u001b[1;32m    120\u001b[0m     (optimization_method \u001b[38;5;241m==\u001b[39m \u001b[38;5;124m\"\u001b[39m\u001b[38;5;124mrandom_scalarizations\u001b[39m\u001b[38;5;124m\"\u001b[39m)\n\u001b[1;32m    121\u001b[0m     \u001b[38;5;129;01mor\u001b[39;00m (optimization_method \u001b[38;5;241m==\u001b[39m \u001b[38;5;124m\"\u001b[39m\u001b[38;5;124mbayesian_optimization\u001b[39m\u001b[38;5;124m\"\u001b[39m)\n\u001b[1;32m    122\u001b[0m     \u001b[38;5;129;01mor\u001b[39;00m (optimization_method \u001b[38;5;241m==\u001b[39m \u001b[38;5;124m\"\u001b[39m\u001b[38;5;124mprior_guided_optimization\u001b[39m\u001b[38;5;124m\"\u001b[39m)\n\u001b[1;32m    123\u001b[0m ):\n\u001b[0;32m--> 124\u001b[0m     data_array \u001b[38;5;241m=\u001b[39m \u001b[43mbo\u001b[49m\u001b[38;5;241;43m.\u001b[39;49m\u001b[43mmain\u001b[49m\u001b[43m(\u001b[49m\n\u001b[1;32m    125\u001b[0m \u001b[43m        \u001b[49m\u001b[43mconfig\u001b[49m\u001b[43m,\u001b[49m\u001b[43m \u001b[49m\u001b[43mblack_box_function\u001b[49m\u001b[38;5;241;43m=\u001b[39;49m\u001b[43mblack_box_function\u001b[49m\u001b[43m,\u001b[49m\u001b[43m \u001b[49m\u001b[43mprofiling\u001b[49m\u001b[38;5;241;43m=\u001b[39;49m\u001b[43mprofiling\u001b[49m\n\u001b[1;32m    126\u001b[0m \u001b[43m    \u001b[49m\u001b[43m)\u001b[49m\n\u001b[1;32m    127\u001b[0m \u001b[38;5;28;01melif\u001b[39;00m optimization_method \u001b[38;5;241m==\u001b[39m \u001b[38;5;124m\"\u001b[39m\u001b[38;5;124mlocal_search\u001b[39m\u001b[38;5;124m\"\u001b[39m:\n\u001b[1;32m    128\u001b[0m     data_array \u001b[38;5;241m=\u001b[39m local_search\u001b[38;5;241m.\u001b[39mmain(\n\u001b[1;32m    129\u001b[0m         config, black_box_function\u001b[38;5;241m=\u001b[39mblack_box_function, profiling\u001b[38;5;241m=\u001b[39mprofiling\n\u001b[1;32m    130\u001b[0m     )\n",
      "File \u001b[0;32m/opt/miniconda3/envs/mycondaenv/lib/python3.12/site-packages/hypermapper/bo.py:459\u001b[0m, in \u001b[0;36mmain\u001b[0;34m(config, black_box_function, profiling)\u001b[0m\n\u001b[1;32m    457\u001b[0m local_search_t0 \u001b[38;5;241m=\u001b[39m datetime\u001b[38;5;241m.\u001b[39mdatetime\u001b[38;5;241m.\u001b[39mnow()\n\u001b[1;32m    458\u001b[0m \u001b[38;5;28;01mif\u001b[39;00m epsilon \u001b[38;5;241m>\u001b[39m epsilon_greedy_threshold:\n\u001b[0;32m--> 459\u001b[0m     best_configuration \u001b[38;5;241m=\u001b[39m \u001b[43mbo_method\u001b[49m\u001b[43m(\u001b[49m\n\u001b[1;32m    460\u001b[0m \u001b[43m        \u001b[49m\u001b[43mconfig\u001b[49m\u001b[43m,\u001b[49m\n\u001b[1;32m    461\u001b[0m \u001b[43m        \u001b[49m\u001b[43mdata_array\u001b[49m\u001b[43m,\u001b[49m\n\u001b[1;32m    462\u001b[0m \u001b[43m        \u001b[49m\u001b[43mparam_space\u001b[49m\u001b[43m,\u001b[49m\n\u001b[1;32m    463\u001b[0m \u001b[43m        \u001b[49m\u001b[43mfast_addressing_of_data_array\u001b[49m\u001b[43m,\u001b[49m\n\u001b[1;32m    464\u001b[0m \u001b[43m        \u001b[49m\u001b[43mregression_models\u001b[49m\u001b[43m,\u001b[49m\n\u001b[1;32m    465\u001b[0m \u001b[43m        \u001b[49m\u001b[43miteration_number\u001b[49m\u001b[43m,\u001b[49m\n\u001b[1;32m    466\u001b[0m \u001b[43m        \u001b[49m\u001b[43mobjective_weights\u001b[49m\u001b[43m,\u001b[49m\n\u001b[1;32m    467\u001b[0m \u001b[43m        \u001b[49m\u001b[43mobjective_limits\u001b[49m\u001b[43m,\u001b[49m\n\u001b[1;32m    468\u001b[0m \u001b[43m        \u001b[49m\u001b[43mclassification_model\u001b[49m\u001b[43m,\u001b[49m\n\u001b[1;32m    469\u001b[0m \u001b[43m        \u001b[49m\u001b[43mprofiling\u001b[49m\u001b[43m,\u001b[49m\n\u001b[1;32m    470\u001b[0m \u001b[43m        \u001b[49m\u001b[43macquisition_function_optimizer\u001b[49m\u001b[43m,\u001b[49m\n\u001b[1;32m    471\u001b[0m \u001b[43m    \u001b[49m\u001b[43m)\u001b[49m\n\u001b[1;32m    473\u001b[0m \u001b[38;5;28;01melse\u001b[39;00m:\n\u001b[1;32m    474\u001b[0m     sys\u001b[38;5;241m.\u001b[39mstdout\u001b[38;5;241m.\u001b[39mwrite_to_logfile(\n\u001b[1;32m    475\u001b[0m         \u001b[38;5;28mstr\u001b[39m(epsilon)\n\u001b[1;32m    476\u001b[0m         \u001b[38;5;241m+\u001b[39m \u001b[38;5;124m\"\u001b[39m\u001b[38;5;124m < \u001b[39m\u001b[38;5;124m\"\u001b[39m\n\u001b[1;32m    477\u001b[0m         \u001b[38;5;241m+\u001b[39m \u001b[38;5;28mstr\u001b[39m(epsilon_greedy_threshold)\n\u001b[1;32m    478\u001b[0m         \u001b[38;5;241m+\u001b[39m \u001b[38;5;124m\"\u001b[39m\u001b[38;5;124m random sampling a configuration to run\u001b[39m\u001b[38;5;130;01m\\n\u001b[39;00m\u001b[38;5;124m\"\u001b[39m\n\u001b[1;32m    479\u001b[0m     )\n",
      "File \u001b[0;32m/opt/miniconda3/envs/mycondaenv/lib/python3.12/site-packages/hypermapper/random_scalarizations.py:559\u001b[0m, in \u001b[0;36mrandom_scalarizations\u001b[0;34m(config, data_array, param_space, fast_addressing_of_data_array, regression_models, iteration_number, objective_weights, objective_limits, classification_model, profiling, acquisition_function_optimizer)\u001b[0m\n\u001b[1;32m    556\u001b[0m optimization_function_parameters[\u001b[38;5;124m\"\u001b[39m\u001b[38;5;124mnumber_of_cpus\u001b[39m\u001b[38;5;124m\"\u001b[39m] \u001b[38;5;241m=\u001b[39m config[\u001b[38;5;124m\"\u001b[39m\u001b[38;5;124mnumber_of_cpus\u001b[39m\u001b[38;5;124m\"\u001b[39m]\n\u001b[1;32m    558\u001b[0m \u001b[38;5;28;01mif\u001b[39;00m acquisition_function_optimizer \u001b[38;5;241m==\u001b[39m \u001b[38;5;124m\"\u001b[39m\u001b[38;5;124mlocal_search\u001b[39m\u001b[38;5;124m\"\u001b[39m:\n\u001b[0;32m--> 559\u001b[0m     _, best_configuration \u001b[38;5;241m=\u001b[39m \u001b[43mlocal_search\u001b[49m\u001b[43m(\u001b[49m\n\u001b[1;32m    560\u001b[0m \u001b[43m        \u001b[49m\u001b[43mlocal_search_starting_points\u001b[49m\u001b[43m,\u001b[49m\n\u001b[1;32m    561\u001b[0m \u001b[43m        \u001b[49m\u001b[43mlocal_search_random_points\u001b[49m\u001b[43m,\u001b[49m\n\u001b[1;32m    562\u001b[0m \u001b[43m        \u001b[49m\u001b[43mparam_space\u001b[49m\u001b[43m,\u001b[49m\n\u001b[1;32m    563\u001b[0m \u001b[43m        \u001b[49m\u001b[43mfast_addressing_of_data_array\u001b[49m\u001b[43m,\u001b[49m\n\u001b[1;32m    564\u001b[0m \u001b[43m        \u001b[49m\u001b[38;5;28;43;01mFalse\u001b[39;49;00m\u001b[43m,\u001b[49m\u001b[43m  \u001b[49m\u001b[38;5;66;43;03m# we do not want the local search to consider feasibility constraints, only the acquisition functions\u001b[39;49;00m\n\u001b[1;32m    565\u001b[0m \u001b[43m        \u001b[49m\u001b[43mrun_acquisition_function\u001b[49m\u001b[43m,\u001b[49m\n\u001b[1;32m    566\u001b[0m \u001b[43m        \u001b[49m\u001b[43moptimization_function_parameters\u001b[49m\u001b[43m,\u001b[49m\n\u001b[1;32m    567\u001b[0m \u001b[43m        \u001b[49m\u001b[43mscalarization_key\u001b[49m\u001b[43m,\u001b[49m\n\u001b[1;32m    568\u001b[0m \u001b[43m        \u001b[49m\u001b[43mnumber_of_cpus\u001b[49m\u001b[43m,\u001b[49m\n\u001b[1;32m    569\u001b[0m \u001b[43m        \u001b[49m\u001b[43mprevious_points\u001b[49m\u001b[38;5;241;43m=\u001b[39;49m\u001b[43mdata_array\u001b[49m\u001b[43m,\u001b[49m\n\u001b[1;32m    570\u001b[0m \u001b[43m        \u001b[49m\u001b[43mprofiling\u001b[49m\u001b[38;5;241;43m=\u001b[39;49m\u001b[43mprofiling\u001b[49m\u001b[43m,\u001b[49m\n\u001b[1;32m    571\u001b[0m \u001b[43m    \u001b[49m\u001b[43m)\u001b[49m\n\u001b[1;32m    572\u001b[0m \u001b[38;5;28;01melif\u001b[39;00m acquisition_function_optimizer \u001b[38;5;241m==\u001b[39m \u001b[38;5;124m\"\u001b[39m\u001b[38;5;124mcma_es\u001b[39m\u001b[38;5;124m\"\u001b[39m:\n\u001b[1;32m    573\u001b[0m     logfile \u001b[38;5;241m=\u001b[39m deal_with_relative_and_absolute_path(\n\u001b[1;32m    574\u001b[0m         config[\u001b[38;5;124m\"\u001b[39m\u001b[38;5;124mrun_directory\u001b[39m\u001b[38;5;124m\"\u001b[39m], config[\u001b[38;5;124m\"\u001b[39m\u001b[38;5;124mlog_file\u001b[39m\u001b[38;5;124m\"\u001b[39m]\n\u001b[1;32m    575\u001b[0m     )\n",
      "File \u001b[0;32m/opt/miniconda3/envs/mycondaenv/lib/python3.12/site-packages/hypermapper/local_search.py:538\u001b[0m, in \u001b[0;36mlocal_search\u001b[0;34m(local_search_starting_points, local_search_random_points, param_space, fast_addressing_of_data_array, enable_feasible_predictor, optimization_function, optimization_function_parameters, scalarization_key, number_of_cpus, previous_points, profiling, noise)\u001b[0m\n\u001b[1;32m    536\u001b[0m \u001b[38;5;28;01mwith\u001b[39;00m threadpool_limits(limits\u001b[38;5;241m=\u001b[39m\u001b[38;5;241m1\u001b[39m):\n\u001b[1;32m    537\u001b[0m     \u001b[38;5;28;01mfor\u001b[39;00m process \u001b[38;5;129;01min\u001b[39;00m processes:\n\u001b[0;32m--> 538\u001b[0m         \u001b[43mprocess\u001b[49m\u001b[38;5;241;43m.\u001b[39;49m\u001b[43mstart\u001b[49m\u001b[43m(\u001b[49m\u001b[43m)\u001b[49m\n\u001b[1;32m    539\u001b[0m         input_queue\u001b[38;5;241m.\u001b[39mput(\u001b[38;5;28;01mNone\u001b[39;00m)\n\u001b[1;32m    540\u001b[0m     input_queue\u001b[38;5;241m.\u001b[39mjoin()\n",
      "File \u001b[0;32m/opt/miniconda3/envs/mycondaenv/lib/python3.12/multiprocessing/process.py:121\u001b[0m, in \u001b[0;36mBaseProcess.start\u001b[0;34m(self)\u001b[0m\n\u001b[1;32m    118\u001b[0m \u001b[38;5;28;01massert\u001b[39;00m \u001b[38;5;129;01mnot\u001b[39;00m _current_process\u001b[38;5;241m.\u001b[39m_config\u001b[38;5;241m.\u001b[39mget(\u001b[38;5;124m'\u001b[39m\u001b[38;5;124mdaemon\u001b[39m\u001b[38;5;124m'\u001b[39m), \\\n\u001b[1;32m    119\u001b[0m        \u001b[38;5;124m'\u001b[39m\u001b[38;5;124mdaemonic processes are not allowed to have children\u001b[39m\u001b[38;5;124m'\u001b[39m\n\u001b[1;32m    120\u001b[0m _cleanup()\n\u001b[0;32m--> 121\u001b[0m \u001b[38;5;28mself\u001b[39m\u001b[38;5;241m.\u001b[39m_popen \u001b[38;5;241m=\u001b[39m \u001b[38;5;28;43mself\u001b[39;49m\u001b[38;5;241;43m.\u001b[39;49m\u001b[43m_Popen\u001b[49m\u001b[43m(\u001b[49m\u001b[38;5;28;43mself\u001b[39;49m\u001b[43m)\u001b[49m\n\u001b[1;32m    122\u001b[0m \u001b[38;5;28mself\u001b[39m\u001b[38;5;241m.\u001b[39m_sentinel \u001b[38;5;241m=\u001b[39m \u001b[38;5;28mself\u001b[39m\u001b[38;5;241m.\u001b[39m_popen\u001b[38;5;241m.\u001b[39msentinel\n\u001b[1;32m    123\u001b[0m \u001b[38;5;66;03m# Avoid a refcycle if the target function holds an indirect\u001b[39;00m\n\u001b[1;32m    124\u001b[0m \u001b[38;5;66;03m# reference to the process object (see bpo-30775)\u001b[39;00m\n",
      "File \u001b[0;32m/opt/miniconda3/envs/mycondaenv/lib/python3.12/multiprocessing/context.py:224\u001b[0m, in \u001b[0;36mProcess._Popen\u001b[0;34m(process_obj)\u001b[0m\n\u001b[1;32m    222\u001b[0m \u001b[38;5;129m@staticmethod\u001b[39m\n\u001b[1;32m    223\u001b[0m \u001b[38;5;28;01mdef\u001b[39;00m \u001b[38;5;21m_Popen\u001b[39m(process_obj):\n\u001b[0;32m--> 224\u001b[0m     \u001b[38;5;28;01mreturn\u001b[39;00m \u001b[43m_default_context\u001b[49m\u001b[38;5;241;43m.\u001b[39;49m\u001b[43mget_context\u001b[49m\u001b[43m(\u001b[49m\u001b[43m)\u001b[49m\u001b[38;5;241;43m.\u001b[39;49m\u001b[43mProcess\u001b[49m\u001b[38;5;241;43m.\u001b[39;49m\u001b[43m_Popen\u001b[49m\u001b[43m(\u001b[49m\u001b[43mprocess_obj\u001b[49m\u001b[43m)\u001b[49m\n",
      "File \u001b[0;32m/opt/miniconda3/envs/mycondaenv/lib/python3.12/multiprocessing/context.py:289\u001b[0m, in \u001b[0;36mSpawnProcess._Popen\u001b[0;34m(process_obj)\u001b[0m\n\u001b[1;32m    286\u001b[0m \u001b[38;5;129m@staticmethod\u001b[39m\n\u001b[1;32m    287\u001b[0m \u001b[38;5;28;01mdef\u001b[39;00m \u001b[38;5;21m_Popen\u001b[39m(process_obj):\n\u001b[1;32m    288\u001b[0m     \u001b[38;5;28;01mfrom\u001b[39;00m \u001b[38;5;21;01m.\u001b[39;00m\u001b[38;5;21;01mpopen_spawn_posix\u001b[39;00m \u001b[38;5;28;01mimport\u001b[39;00m Popen\n\u001b[0;32m--> 289\u001b[0m     \u001b[38;5;28;01mreturn\u001b[39;00m \u001b[43mPopen\u001b[49m\u001b[43m(\u001b[49m\u001b[43mprocess_obj\u001b[49m\u001b[43m)\u001b[49m\n",
      "File \u001b[0;32m/opt/miniconda3/envs/mycondaenv/lib/python3.12/multiprocessing/popen_spawn_posix.py:32\u001b[0m, in \u001b[0;36mPopen.__init__\u001b[0;34m(self, process_obj)\u001b[0m\n\u001b[1;32m     30\u001b[0m \u001b[38;5;28;01mdef\u001b[39;00m \u001b[38;5;21m__init__\u001b[39m(\u001b[38;5;28mself\u001b[39m, process_obj):\n\u001b[1;32m     31\u001b[0m     \u001b[38;5;28mself\u001b[39m\u001b[38;5;241m.\u001b[39m_fds \u001b[38;5;241m=\u001b[39m []\n\u001b[0;32m---> 32\u001b[0m     \u001b[38;5;28;43msuper\u001b[39;49m\u001b[43m(\u001b[49m\u001b[43m)\u001b[49m\u001b[38;5;241;43m.\u001b[39;49m\u001b[38;5;21;43m__init__\u001b[39;49m\u001b[43m(\u001b[49m\u001b[43mprocess_obj\u001b[49m\u001b[43m)\u001b[49m\n",
      "File \u001b[0;32m/opt/miniconda3/envs/mycondaenv/lib/python3.12/multiprocessing/popen_fork.py:19\u001b[0m, in \u001b[0;36mPopen.__init__\u001b[0;34m(self, process_obj)\u001b[0m\n\u001b[1;32m     17\u001b[0m \u001b[38;5;28mself\u001b[39m\u001b[38;5;241m.\u001b[39mreturncode \u001b[38;5;241m=\u001b[39m \u001b[38;5;28;01mNone\u001b[39;00m\n\u001b[1;32m     18\u001b[0m \u001b[38;5;28mself\u001b[39m\u001b[38;5;241m.\u001b[39mfinalizer \u001b[38;5;241m=\u001b[39m \u001b[38;5;28;01mNone\u001b[39;00m\n\u001b[0;32m---> 19\u001b[0m \u001b[38;5;28;43mself\u001b[39;49m\u001b[38;5;241;43m.\u001b[39;49m\u001b[43m_launch\u001b[49m\u001b[43m(\u001b[49m\u001b[43mprocess_obj\u001b[49m\u001b[43m)\u001b[49m\n",
      "File \u001b[0;32m/opt/miniconda3/envs/mycondaenv/lib/python3.12/multiprocessing/popen_spawn_posix.py:47\u001b[0m, in \u001b[0;36mPopen._launch\u001b[0;34m(self, process_obj)\u001b[0m\n\u001b[1;32m     45\u001b[0m \u001b[38;5;28;01mtry\u001b[39;00m:\n\u001b[1;32m     46\u001b[0m     reduction\u001b[38;5;241m.\u001b[39mdump(prep_data, fp)\n\u001b[0;32m---> 47\u001b[0m     \u001b[43mreduction\u001b[49m\u001b[38;5;241;43m.\u001b[39;49m\u001b[43mdump\u001b[49m\u001b[43m(\u001b[49m\u001b[43mprocess_obj\u001b[49m\u001b[43m,\u001b[49m\u001b[43m \u001b[49m\u001b[43mfp\u001b[49m\u001b[43m)\u001b[49m\n\u001b[1;32m     48\u001b[0m \u001b[38;5;28;01mfinally\u001b[39;00m:\n\u001b[1;32m     49\u001b[0m     set_spawning_popen(\u001b[38;5;28;01mNone\u001b[39;00m)\n",
      "File \u001b[0;32m/opt/miniconda3/envs/mycondaenv/lib/python3.12/multiprocessing/reduction.py:60\u001b[0m, in \u001b[0;36mdump\u001b[0;34m(obj, file, protocol)\u001b[0m\n\u001b[1;32m     58\u001b[0m \u001b[38;5;28;01mdef\u001b[39;00m \u001b[38;5;21mdump\u001b[39m(obj, file, protocol\u001b[38;5;241m=\u001b[39m\u001b[38;5;28;01mNone\u001b[39;00m):\n\u001b[1;32m     59\u001b[0m \u001b[38;5;250m    \u001b[39m\u001b[38;5;124;03m'''Replacement for pickle.dump() using ForkingPickler.'''\u001b[39;00m\n\u001b[0;32m---> 60\u001b[0m     \u001b[43mForkingPickler\u001b[49m\u001b[43m(\u001b[49m\u001b[43mfile\u001b[49m\u001b[43m,\u001b[49m\u001b[43m \u001b[49m\u001b[43mprotocol\u001b[49m\u001b[43m)\u001b[49m\u001b[38;5;241;43m.\u001b[39;49m\u001b[43mdump\u001b[49m\u001b[43m(\u001b[49m\u001b[43mobj\u001b[49m\u001b[43m)\u001b[49m\n",
      "\u001b[0;31mAttributeError\u001b[0m: Can't pickle local object 'Space.__init__.<locals>.<lambda>'"
     ]
    }
   ],
   "source": [
    "# run CAFQA\n",
    "\n",
    "# hypermapper changes the standard output to write to log files, so it needs to be\n",
    "# changed back after CAFQA (otherwise printing breaks)\n",
    "\n",
    "stdout = sys.stdout\n",
    "cafqa_energy, cafqa_params = ve.run_cafqa(\n",
    "    n_qubits=N,\n",
    "    coeffs=coeffs,\n",
    "    paulis=paulis,\n",
    "    param_guess=list(guess),\n",
    "    budget=budget,\n",
    "    save_dir=save_dir,\n",
    "    loss_file=loss_file,\n",
    "    params_file=params_file,\n",
    "    vqe_kwargs=vqe_kwargs\n",
    ")\n",
    "sys.stdout = stdout"
   ]
  },
  {
   "cell_type": "code",
   "execution_count": null,
   "metadata": {},
   "outputs": [],
   "source": []
  }
 ],
 "metadata": {
  "kernelspec": {
   "display_name": "research",
   "language": "python",
   "name": "python3"
  },
  "language_info": {
   "codemirror_mode": {
    "name": "ipython",
    "version": 3
   },
   "file_extension": ".py",
   "mimetype": "text/x-python",
   "name": "python",
   "nbconvert_exporter": "python",
   "pygments_lexer": "ipython3",
   "version": "3.12.4"
  }
 },
 "nbformat": 4,
 "nbformat_minor": 2
}
